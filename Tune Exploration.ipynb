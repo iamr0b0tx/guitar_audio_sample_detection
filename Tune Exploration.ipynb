{
 "cells": [
  {
   "cell_type": "code",
   "execution_count": 1,
   "metadata": {},
   "outputs": [],
   "source": [
    "%load_ext autoreload\n",
    "%autoreload 2"
   ]
  },
  {
   "cell_type": "markdown",
   "metadata": {},
   "source": [
    "## import all packages and libraries"
   ]
  },
  {
   "cell_type": "code",
   "execution_count": 2,
   "metadata": {},
   "outputs": [],
   "source": [
    "import os\n",
    "import math\n",
    "\n",
    "import numpy as np\n",
    "import matplotlib.pyplot as plt\n",
    "\n",
    "\n",
    "import librosa\n",
    "from tqdm.notebook import tqdm"
   ]
  },
  {
   "cell_type": "markdown",
   "metadata": {},
   "source": [
    "#### Utility functions"
   ]
  },
  {
   "cell_type": "code",
   "execution_count": 3,
   "metadata": {},
   "outputs": [],
   "source": [
    "def fft(f):\n",
    "    Ni = len(f)\n",
    "    Mi = int(Ni / 2)\n",
    "    if Mi <= 2:\n",
    "        return [f[0] + f[1] + f[2] + f[3], \n",
    "               f[0] - 1j*f[1] - f[2] + 1j*f[3],\n",
    "               f[0] - f[1] + f[2] - f[3],\n",
    "               f[0] + 1j*f[1] - f[2] - 1j*f[3]]\n",
    "    \n",
    "    wn = math.cos(2*math.pi/Ni) - 1j*math.sin(2*math.pi/Ni)\n",
    "    fe = [f[i] for i in range(Ni) if i % 2 == 0]\n",
    "    fo = [f[i] for i in range(Ni) if i % 2 == 1]\n",
    "    Fe = fft(fe)\n",
    "    Fo = fft(fo)\n",
    "    return [np.around(Fe[i] + (wn**i)*Fo[i], decimals=10) for i in range(Mi)] + [np.around(Fe[i] - (wn**i)*Fo[i], decimals=10) for i in range(Mi)]\n",
    "\n",
    "def get_audio_data(filename):\n",
    "    fs = 2**12 # sample rate\n",
    "    tp = 2 # sampling duration\n",
    "    N = n = fs*tp # number of samples\n",
    "    \n",
    "    # Extract data and sampling rate from file\n",
    "    recording, fs = librosa.load(filename, sr=fs, duration=tp, mono=True)\n",
    "    n = len(recording)        \n",
    "    tp = int(n / fs)\n",
    "\n",
    "    if tp < 2:\n",
    "        pad_width = N - len(recording)\n",
    "        recording = np.pad(recording, pad_width=((0, pad_width),), mode='constant')\n",
    "\n",
    "        n = len(recording)\n",
    "        tp = int(n / fs)\n",
    "\n",
    "    N = fs*tp # number of samples\n",
    "    x = [np.round(float(recording[i]), 10) for i in range(n)] # input sequence\n",
    "    return x, tp, n\n",
    "\n",
    "def get_top_frequencies(fi, X_amp, size):\n",
    "    fi = np.array(fi)\n",
    "    X_amp = np.array(X_amp)\n",
    "    \n",
    "    return fi[np.argsort(X_amp)[::-1][:size]]\n",
    "\n",
    "def get_frequency_amplitude(x, tp, N):\n",
    "    _X = fft(x) # discrete Fourier transform\n",
    "    X = [np.round(Xi/N, 10) for Xi in _X] # frequency spectrum\n",
    "    X_amp = [np.absolute(Xi) for Xi in X] # amplitude spectrum\n",
    "\n",
    "    M = int(N/2)\n",
    "    ti = np.array([i*tp/N for i in range(N)])\n",
    "    fi = np.array([i/tp for i in range(M)])\n",
    "    X_amp = np.array(X_amp[:M])*2\n",
    "    \n",
    "    return ti, fi, X_amp\n",
    "\n",
    "def extract_features(filepath):\n",
    "    # try:\n",
    "    audio_features = get_audio_data(filepath)\n",
    "    if not audio_features:\n",
    "        return\n",
    "\n",
    "    x, tp, N = audio_features\n",
    "    ti, fi, X_amp = get_frequency_amplitude(x, tp, N)\n",
    "    return fi, X_amp\n",
    "\n",
    "def get_data(data_dir: str, callback = lambda x: x) -> np.array:\n",
    "    # feature list\n",
    "    X, y = [], []\n",
    "\n",
    "    # Iterate through each sound file and extract the features \n",
    "    for folder in tqdm(os.listdir(data_dir)):\n",
    "        class_label = folder\n",
    "        \n",
    "        if class_label.startswith(\"0\"):\n",
    "            continue\n",
    "            \n",
    "        for file in os.listdir(os.path.join(data_dir, folder)):\n",
    "            file_name = os.path.join(os.path.join(data_dir, folder, file))\n",
    "\n",
    "            X.append(callback(file_name))\n",
    "            y.append(class_label)\n",
    "    \n",
    "    X, y = map(np.array, [X, y])\n",
    "    return X, y\n",
    "\n",
    "def extract_features2(file_name):\n",
    "    audio, sample_rate = librosa.load(file_name, res_type='kaiser_fast', duration=3) \n",
    "    mfccs = librosa.feature.mfcc(y=audio, sr=sample_rate, n_mfcc=40)\n",
    "    \n",
    "#     pad_width = 256 - mfccs.shape[1]\n",
    "#     mfccs = np.pad(mfccs, pad_width=((0, 0), (0, pad_width)), mode='constant')     \n",
    "    \n",
    "    mfccs = mfccs.mean(1)\n",
    "    return np.arange(len(mfccs)), mfccs\n",
    "\n",
    "def plot_wave(ti, x, fi, X_amp):\n",
    "    plt.subplots_adjust(wspace=0.4, hspace=0.4)\n",
    "\n",
    "    ax1= plt.subplot(211)\n",
    "    plt.plot(ti, x)\n",
    "    plt.xlabel('t (seconds)')\n",
    "    plt.ylabel('x(t)')\n",
    "    plt.minorticks_on()\n",
    "    plt.grid(b=True, which='major', linestyle='-')\n",
    "    plt.grid(b=True, which='minor', linestyle='--')\n",
    "\n",
    "    ax2 = plt.subplot(212)\n",
    "    plt.plot(fi, X_amp)\n",
    "    plt.xlabel('f (hertz)')\n",
    "    plt.ylabel('|X(f)|')\n",
    "    ax2.set_xscale('log')\n",
    "    plt.minorticks_on()\n",
    "    plt.grid(b=True, which='major', linestyle='-')\n",
    "    plt.grid(b=True, which='minor', linestyle='--')\n",
    "\n",
    "    plt.show()"
   ]
  },
  {
   "cell_type": "markdown",
   "metadata": {},
   "source": [
    "#### CONSTANTS"
   ]
  },
  {
   "cell_type": "code",
   "execution_count": 4,
   "metadata": {},
   "outputs": [],
   "source": [
    "# DATA_DIR = os.path.join(\"data\" , \"old_guitar_sample\")\n",
    "DATA_DIR = os.path.join(\"data\" , \"guitar_sample\")"
   ]
  },
  {
   "cell_type": "code",
   "execution_count": 5,
   "metadata": {
    "scrolled": false
   },
   "outputs": [
    {
     "data": {
      "application/vnd.jupyter.widget-view+json": {
       "model_id": "c5d018ad33f948caaa53af152ce142d4",
       "version_major": 2,
       "version_minor": 0
      },
      "text/plain": [
       "HBox(children=(HTML(value=''), FloatProgress(value=0.0, max=12.0), HTML(value='')))"
      ]
     },
     "metadata": {},
     "output_type": "display_data"
    },
    {
     "name": "stdout",
     "output_type": "stream",
     "text": [
      "\n"
     ]
    }
   ],
   "source": [
    "input_data, output_data = get_data(DATA_DIR, extract_features)"
   ]
  },
  {
   "cell_type": "code",
   "execution_count": 56,
   "metadata": {},
   "outputs": [
    {
     "data": {
      "text/plain": [
       "(118, 2, 4096)"
      ]
     },
     "execution_count": 56,
     "metadata": {},
     "output_type": "execute_result"
    }
   ],
   "source": [
    "label = None\n",
    "\n",
    "if label is None:\n",
    "    is_label = f\"1A\"\n",
    "    not_label = f\"1G\"\n",
    "    X, y = input_data, output_data\n",
    "    \n",
    "else:\n",
    "    is_label = f\"1{label}\"\n",
    "    not_label = f\"0{label}\"\n",
    "\n",
    "    indices1 = np.where(output_data == is_label)[0]\n",
    "    indices2 = np.where(output_data != is_label)[0]\n",
    "\n",
    "    np.random.shuffle(indices2)\n",
    "    indices2 = indices2[:len(indices1)]\n",
    "    indices = np.concatenate([indices1, indices2])\n",
    "\n",
    "    X = input_data[indices]\n",
    "    y = output_data[indices]\n",
    "    y[-len(indices1):] = not_label\n",
    "\n",
    "X.shape"
   ]
  },
  {
   "cell_type": "code",
   "execution_count": 58,
   "metadata": {},
   "outputs": [],
   "source": [
    "index1 = np.where(y == is_label)[0][10]\n",
    "index2 = np.where(y == not_label)[0][0]"
   ]
  },
  {
   "cell_type": "code",
   "execution_count": 59,
   "metadata": {},
   "outputs": [
    {
     "data": {
      "text/plain": [
       "array([ 98,  99, 100, 101, 102, 103, 104, 105, 106, 107, 108, 109, 110,\n",
       "       111, 112, 113, 114, 115, 116, 117], dtype=int64)"
      ]
     },
     "execution_count": 59,
     "metadata": {},
     "output_type": "execute_result"
    }
   ],
   "source": [
    "np.where(y == not_label)[0]"
   ]
  },
  {
   "cell_type": "code",
   "execution_count": 61,
   "metadata": {
    "scrolled": false
   },
   "outputs": [
    {
     "data": {
      "text/plain": [
       "<matplotlib.collections.PathCollection at 0x1e6210be400>"
      ]
     },
     "execution_count": 61,
     "metadata": {},
     "output_type": "execute_result"
    },
    {
     "data": {
      "image/png": "[encoded data removed]",
      "text/plain": [
       "<Figure size 432x288 with 1 Axes>"
      ]
     },
     "metadata": {
      "needs_background": "light"
     },
     "output_type": "display_data"
    }
   ],
   "source": [
    "plt.scatter(X[index1, 0, :], X[index1, 1, :], color=\"blue\")\n",
    "plt.scatter(X[index2, 0, :], X[index2, 1, :], color=\"red\")"
   ]
  },
  {
   "cell_type": "code",
   "execution_count": 62,
   "metadata": {
    "scrolled": false
   },
   "outputs": [
    {
     "name": "stdout",
     "output_type": "stream",
     "text": [
      "Identified outliers: 483, min =    17.50, max =  1863.50, mean =   441.42\n"
     ]
    }
   ],
   "source": [
    "def get_outlier_amplitude_frequency(freq, amplitude):\n",
    "    # calculate interquartile range\n",
    "    q25, q75 = np.percentile(amplitude, 25), np.percentile(amplitude, 75)\n",
    "    iqr = q75 - q25\n",
    "#     print('Percentiles: 25th=%.3f, 75th=%.3f, IQR=%.8f' % (q25, q75, iqr))\n",
    "\n",
    "    # calculate the outlier cutoff\n",
    "    cut_off = iqr * 1.5\n",
    "    lower, upper = q25 - cut_off, q75 + cut_off\n",
    "\n",
    "    # identify outliers\n",
    "    outlier_freq = freq[(amplitude < lower) | (amplitude > upper)]\n",
    "    print(f'Identified outliers: {len(outlier_freq):d}, min = {outlier_freq.min():8.2f}, max = {outlier_freq.max():8.2f}, mean = {outlier_freq.mean():8.2f}')\n",
    "\n",
    "get_outlier_amplitude_frequency(X[0, 0, :], X[0, 1, :])"
   ]
  },
  {
   "cell_type": "code",
   "execution_count": 65,
   "metadata": {
    "scrolled": false
   },
   "outputs": [
    {
     "name": "stdout",
     "output_type": "stream",
     "text": [
      " 1A: 108.50 Identified outliers: 483, min =    17.50, max =  1863.50, mean =   441.42\n",
      " 1A: 108.00 Identified outliers: 478, min =     0.00, max =  1853.00, mean =   438.46\n",
      " 1A: 108.50 Identified outliers: 463, min =    16.00, max =  1868.50, mean =   524.96\n",
      " 1A: 108.00 Identified outliers: 471, min =    16.00, max =  1865.00, mean =   512.37\n",
      " 1A: 108.00 Identified outliers: 489, min =    15.00, max =  1865.00, mean =   550.42\n",
      " 1A: 108.00 Identified outliers: 479, min =    15.00, max =  1861.00, mean =   508.74\n",
      " 1A: 108.50 Identified outliers: 495, min =    10.50, max =  1865.00, mean =   512.64\n",
      " 1A: 108.50 Identified outliers: 486, min =    17.50, max =  1867.50, mean =   522.38\n",
      " 1A: 108.50 Identified outliers: 488, min =    15.50, max =  1873.50, mean =   529.42\n",
      " 1A: 108.50 Identified outliers: 473, min =    17.50, max =  1881.00, mean =   535.86\n",
      " 1A: 108.00 Identified outliers: 457, min =    17.50, max =  1863.50, mean =   497.36\n",
      " 1A: 108.50 Identified outliers: 488, min =    17.00, max =  1863.50, mean =   469.01\n",
      " 1A: 108.50 Identified outliers: 425, min =    89.00, max =  1878.50, mean =   519.12\n",
      " 1A: 108.50 Identified outliers: 449, min =    17.00, max =  1868.50, mean =   520.29\n",
      " 1A: 108.00 Identified outliers: 519, min =    41.00, max =  1868.00, mean =   447.61\n",
      " 1A: 108.50 Identified outliers: 463, min =    21.50, max =  1870.50, mean =   512.02\n",
      " 1A: 108.00 Identified outliers: 470, min =     0.00, max =  1856.00, mean =   447.02\n",
      " 1A: 108.00 Identified outliers: 445, min =     0.50, max =  1860.00, mean =   472.37\n",
      " 1A: 108.00 Identified outliers: 443, min =    82.50, max =  1863.50, mean =   556.24\n",
      " 1A: 108.00 Identified outliers: 473, min =    17.00, max =  1863.50, mean =   500.77\n"
     ]
    }
   ],
   "source": [
    "indices = np.random.randint(len(y), size=10)\n",
    "indices = np.where(y == is_label)[0]\n",
    "\n",
    "for index in indices:\n",
    "    print(f\"{y[index]:>3s}: {X[index, 0][X[index, 1].argmax()]:5.2f}\", end=\" \")\n",
    "    get_outlier_amplitude_frequency(X[index, 0, :], X[index, 1, :])"
   ]
  },
  {
   "cell_type": "code",
   "execution_count": 66,
   "metadata": {},
   "outputs": [
    {
     "name": "stdout",
     "output_type": "stream",
     "text": [
      " 1G: 387.00 Identified outliers: 508, min =    16.00, max =  1746.00, mean =   443.36\n",
      " 1G: 193.00 Identified outliers: 533, min =    10.50, max =  1940.00, mean =   384.83\n",
      " 1G: 193.00 Identified outliers: 521, min =    16.00, max =  1939.50, mean =   393.51\n",
      " 1G: 387.50 Identified outliers: 512, min =    15.50, max =  1940.50, mean =   413.38\n",
      " 1G: 193.00 Identified outliers: 505, min =    17.00, max =  1940.00, mean =   383.91\n",
      " 1G: 387.50 Identified outliers: 428, min =    97.50, max =  1940.50, mean =   433.01\n",
      " 1G: 193.50 Identified outliers: 469, min =    17.00, max =  1940.00, mean =   412.12\n",
      " 1G: 193.00 Identified outliers: 512, min =    14.50, max =  1939.50, mean =   371.34\n",
      " 1G: 387.50 Identified outliers: 503, min =    16.00, max =  1747.50, mean =   425.01\n",
      " 1G: 193.00 Identified outliers: 481, min =    16.00, max =  1940.50, mean =   413.24\n",
      " 1G: 193.00 Identified outliers: 535, min =    17.00, max =  1748.00, mean =   414.24\n",
      " 1G: 387.50 Identified outliers: 483, min =   105.00, max =  1748.00, mean =   470.61\n",
      " 1G: 193.00 Identified outliers: 525, min =    11.00, max =  1941.00, mean =   395.83\n",
      " 1G: 387.00 Identified outliers: 430, min =   107.50, max =  1938.50, mean =   506.02\n",
      " 1G: 387.50 Identified outliers: 438, min =   106.50, max =  1939.50, mean =   528.01\n",
      " 1G: 193.00 Identified outliers: 431, min =   104.50, max =  1940.00, mean =   457.00\n",
      " 1G: 193.00 Identified outliers: 533, min =    16.50, max =  1745.50, mean =   372.35\n",
      " 1G: 193.00 Identified outliers: 528, min =    17.00, max =  1940.50, mean =   373.48\n",
      " 1G: 193.00 Identified outliers: 489, min =    17.50, max =  1940.00, mean =   411.63\n",
      " 1G: 387.50 Identified outliers: 541, min =    11.00, max =  1940.00, mean =   410.28\n"
     ]
    }
   ],
   "source": [
    "# indices = np.random.randint(len(y), size=20)\n",
    "indices = np.where(y == not_label)[0]\n",
    "\n",
    "for index in indices:\n",
    "    print(f\"{y[index]:>3s}: {X[index, 0][X[index, 1].argmax()]:5.2f}\", end=\" \")\n",
    "    get_outlier_amplitude_frequency(X[index, 0, :], X[index, 1, :])"
   ]
  },
  {
   "cell_type": "code",
   "execution_count": 68,
   "metadata": {},
   "outputs": [
    {
     "data": {
      "text/plain": [
       "array(['1A', '1B', '1D', '1EH', '1EL', '1G'], dtype='<U3')"
      ]
     },
     "execution_count": 68,
     "metadata": {},
     "output_type": "execute_result"
    }
   ],
   "source": [
    "from sklearn import preprocessing\n",
    "\n",
    "le = preprocessing.LabelEncoder()\n",
    "y_train_le = le.fit(y)\n",
    "\n",
    "le.classes_"
   ]
  },
  {
   "cell_type": "code",
   "execution_count": 89,
   "metadata": {},
   "outputs": [
    {
     "name": "stdout",
     "output_type": "stream",
     "text": [
      "training accuracy = 1.00\n",
      "test accuracy = 1.00\n"
     ]
    }
   ],
   "source": [
    "from sklearn.neighbors import KNeighborsClassifier\n",
    "from sklearn.model_selection import StratifiedShuffleSplit\n",
    "\n",
    "# split train and test data\n",
    "sss = StratifiedShuffleSplit(n_splits=1, test_size=0.25, random_state=100)\n",
    "for train_index, test_index in sss.split(X, y):\n",
    "    x_train, x_test = X[:, 1][train_index], X[:, 1][test_index]\n",
    "    y_train_label, y_test_label = y[train_index], y[test_index]\n",
    "    y_train, y_test = map(le.transform, [y_train_label, y_test_label])\n",
    "    \n",
    "    \n",
    "clf = KNeighborsClassifier(n_neighbors=3, weights=\"distance\")\n",
    "clf.fit(x_train, y_train_label)\n",
    "\n",
    "clf.fit(x_train, y_train_label)\n",
    "print(f\"training accuracy = {clf.score(x_train, y_train_label):.2f}\")\n",
    "print(f\"test accuracy = {clf.score(x_test, y_test_label):.2f}\")"
   ]
  },
  {
   "cell_type": "code",
   "execution_count": 87,
   "metadata": {},
   "outputs": [
    {
     "data": {
      "text/plain": [
       "array([[5, 0, 0, 0, 0, 0],\n",
       "       [0, 5, 0, 0, 0, 0],\n",
       "       [0, 0, 5, 0, 0, 0],\n",
       "       [0, 0, 0, 5, 0, 0],\n",
       "       [0, 0, 0, 0, 5, 0],\n",
       "       [0, 0, 0, 0, 0, 5]], dtype=int64)"
      ]
     },
     "execution_count": 87,
     "metadata": {},
     "output_type": "execute_result"
    }
   ],
   "source": [
    "from sklearn.metrics import confusion_matrix\n",
    "\n",
    "y_pred = clf.predict(x_test)\n",
    "confusion_matrix(y_test_label, y_pred)"
   ]
  },
  {
   "cell_type": "code",
   "execution_count": 71,
   "metadata": {},
   "outputs": [
    {
     "name": "stdout",
     "output_type": "stream",
     "text": [
      "              precision    recall  f1-score   support\n",
      "\n",
      "          1A       1.00      1.00      1.00         5\n",
      "          1B       1.00      1.00      1.00         5\n",
      "          1D       1.00      1.00      1.00         5\n",
      "         1EH       1.00      1.00      1.00         5\n",
      "         1EL       1.00      1.00      1.00         5\n",
      "          1G       1.00      1.00      1.00         5\n",
      "\n",
      "    accuracy                           1.00        30\n",
      "   macro avg       1.00      1.00      1.00        30\n",
      "weighted avg       1.00      1.00      1.00        30\n",
      "\n"
     ]
    }
   ],
   "source": [
    "from sklearn.metrics import classification_report\n",
    "\n",
    "print(classification_report(y_test_label, y_pred))"
   ]
  },
  {
   "cell_type": "code",
   "execution_count": 72,
   "metadata": {},
   "outputs": [
    {
     "data": {
      "application/vnd.jupyter.widget-view+json": {
       "model_id": "59a73a45c7624f25889d64c9072556fa",
       "version_major": 2,
       "version_minor": 0
      },
      "text/plain": [
       "HBox(children=(HTML(value=''), FloatProgress(value=0.0, max=6.0), HTML(value='')))"
      ]
     },
     "metadata": {},
     "output_type": "display_data"
    },
    {
     "name": "stdout",
     "output_type": "stream",
     "text": [
      "EH, D, A, B, G, EL, \n",
      "\n",
      "(58, 4096)\n"
     ]
    }
   ],
   "source": [
    "x_test_sample = []\n",
    "y_test_sample = []\n",
    "\n",
    "sample_dirs = [\"EH\", \"D\", \"A\", \"B\", \"G\", \"EL\"]\n",
    "# sample_dirs = [\"A\"]\n",
    "\n",
    "for class_label in tqdm(sample_dirs):\n",
    "    print(class_label, end=\", \")\n",
    "    labeldir= os.path.join(\"data\", \"old_guitar_sample\", class_label)\n",
    "\n",
    "    for filename in (os.listdir(labeldir)):\n",
    "        anchor_filepath = os.path.join(\"data\", \"old_guitar_sample\", class_label, filename)\n",
    "        \n",
    "        anchor_file_vector = extract_features(anchor_filepath)\n",
    "        x_test_sample.append(anchor_file_vector[1])\n",
    "        if label is None:\n",
    "            y_test_sample.append(f\"1{class_label}\")\n",
    "        \n",
    "        else:\n",
    "            y_test_sample.append(f\"1{label}\" if label == class_label else f\"0{label}\")\n",
    "\n",
    "print()\n",
    "x_test_sample = np.array(x_test_sample)\n",
    "y_test_sample = np.array(y_test_sample)\n",
    "\n",
    "print(x_test_sample.shape)"
   ]
  },
  {
   "cell_type": "code",
   "execution_count": 73,
   "metadata": {},
   "outputs": [
    {
     "name": "stdout",
     "output_type": "stream",
     "text": [
      "test accuracy = 0.98\n"
     ]
    }
   ],
   "source": [
    "print(f\"test accuracy = {clf.score(x_test_sample, y_test_sample):.2f}\")"
   ]
  },
  {
   "cell_type": "code",
   "execution_count": 74,
   "metadata": {},
   "outputs": [
    {
     "data": {
      "text/plain": [
       "array([[ 9,  0,  1,  0,  0,  0],\n",
       "       [ 0, 10,  0,  0,  0,  0],\n",
       "       [ 0,  0, 10,  0,  0,  0],\n",
       "       [ 0,  0,  0, 10,  0,  0],\n",
       "       [ 0,  0,  0,  0,  9,  0],\n",
       "       [ 0,  0,  0,  0,  0,  9]], dtype=int64)"
      ]
     },
     "execution_count": 74,
     "metadata": {},
     "output_type": "execute_result"
    }
   ],
   "source": [
    "from sklearn.metrics import confusion_matrix\n",
    "\n",
    "y_pred = clf.predict(x_test_sample)\n",
    "confusion_matrix(y_test_sample, y_pred)"
   ]
  },
  {
   "cell_type": "code",
   "execution_count": 75,
   "metadata": {
    "scrolled": true
   },
   "outputs": [
    {
     "name": "stdout",
     "output_type": "stream",
     "text": [
      "              precision    recall  f1-score   support\n",
      "\n",
      "          1A       1.00      0.90      0.95        10\n",
      "          1B       1.00      1.00      1.00        10\n",
      "          1D       0.91      1.00      0.95        10\n",
      "         1EH       1.00      1.00      1.00        10\n",
      "         1EL       1.00      1.00      1.00         9\n",
      "          1G       1.00      1.00      1.00         9\n",
      "\n",
      "    accuracy                           0.98        58\n",
      "   macro avg       0.98      0.98      0.98        58\n",
      "weighted avg       0.98      0.98      0.98        58\n",
      "\n"
     ]
    }
   ],
   "source": [
    "from sklearn.metrics import classification_report\n",
    "\n",
    "print(classification_report(y_test_sample, y_pred))"
   ]
  },
  {
   "cell_type": "code",
   "execution_count": 81,
   "metadata": {},
   "outputs": [
    {
     "name": "stdout",
     "output_type": "stream",
     "text": [
      " 1A: 778.00 Identified outliers: 366, min =   102.00, max =  1950.00, mean =   830.13\n"
     ]
    }
   ],
   "source": [
    "sample_fi, sample_amp = extract_features(os.path.join(DATA_DIR, \"..\", \"sampleG.wav\"))\n",
    "\n",
    "print(f'{\"1A\":>3s}: {sample_fi[sample_amp.argmax()]:5.2f}', end=\" \")\n",
    "get_outlier_amplitude_frequency(sample_fi, sample_amp)"
   ]
  },
  {
   "cell_type": "code",
   "execution_count": 90,
   "metadata": {
    "scrolled": true
   },
   "outputs": [
    {
     "data": {
      "text/plain": [
       "((118, 4096), (4096,))"
      ]
     },
     "execution_count": 90,
     "metadata": {},
     "output_type": "execute_result"
    }
   ],
   "source": [
    "X[:, 1].shape, sample_amp.shape"
   ]
  },
  {
   "cell_type": "code",
   "execution_count": 91,
   "metadata": {},
   "outputs": [
    {
     "name": "stdout",
     "output_type": "stream",
     "text": [
      "['1G']\n"
     ]
    }
   ],
   "source": [
    "print(clf.predict([sample_amp]))"
   ]
  },
  {
   "cell_type": "code",
   "execution_count": 92,
   "metadata": {},
   "outputs": [
    {
     "name": "stdout",
     "output_type": "stream",
     "text": [
      "[[0. 0. 0. 0. 0. 1.]]\n"
     ]
    }
   ],
   "source": [
    "print(clf.predict_proba([sample_amp]))"
   ]
  },
  {
   "cell_type": "code",
   "execution_count": 93,
   "metadata": {},
   "outputs": [
    {
     "data": {
      "text/plain": [
       "array(['1A', '1B', '1D', '1EH', '1EL', '1G'], dtype='<U3')"
      ]
     },
     "execution_count": 93,
     "metadata": {},
     "output_type": "execute_result"
    }
   ],
   "source": [
    "clf.classes_"
   ]
  },
  {
   "cell_type": "code",
   "execution_count": null,
   "metadata": {},
   "outputs": [],
   "source": []
  },
  {
   "cell_type": "code",
   "execution_count": null,
   "metadata": {},
   "outputs": [],
   "source": []
  }
 ],
 "metadata": {
  "kernelspec": {
   "display_name": "Python 3",
   "language": "python",
   "name": "python3"
  },
  "language_info": {
   "codemirror_mode": {
    "name": "ipython",
    "version": 3
   },
   "file_extension": ".py",
   "mimetype": "text/x-python",
   "name": "python",
   "nbconvert_exporter": "python",
   "pygments_lexer": "ipython3",
   "version": "3.8.5"
  }
 },
 "nbformat": 4,
 "nbformat_minor": 4
}
