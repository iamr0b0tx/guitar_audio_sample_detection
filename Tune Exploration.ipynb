{
 "cells": [
  {
   "cell_type": "code",
   "execution_count": 1,
   "metadata": {},
   "outputs": [],
   "source": [
    "%load_ext autoreload\n",
    "%autoreload 2"
   ]
  },
  {
   "cell_type": "markdown",
   "metadata": {},
   "source": [
    "## import all packages and libraries"
   ]
  },
  {
   "cell_type": "code",
   "execution_count": 6,
   "metadata": {},
   "outputs": [],
   "source": [
    "import os\n",
    "import math\n",
    "from cmath import exp, pi\n",
    "\n",
    "import numpy as np\n",
    "import matplotlib.pyplot as plt\n",
    "\n",
    "\n",
    "import librosa\n",
    "from tqdm.notebook import tqdm"
   ]
  },
  {
   "cell_type": "markdown",
   "metadata": {},
   "source": [
    "#### Utility functions"
   ]
  },
  {
   "cell_type": "code",
   "execution_count": 119,
   "metadata": {},
   "outputs": [],
   "source": [
    "from scipy import signal as sig\n",
    "\n",
    "def fft(f):\n",
    "    Ni = len(f)\n",
    "    Mi = int(Ni / 2)\n",
    "    if Mi <= 2:\n",
    "        return [f[0] + f[1] + f[2] + f[3], \n",
    "               f[0] - 1j*f[1] - f[2] + 1j*f[3],\n",
    "               f[0] - f[1] + f[2] - f[3],\n",
    "               f[0] + 1j*f[1] - f[2] - 1j*f[3]]\n",
    "    \n",
    "    wn = math.cos(2*math.pi/Ni) - 1j*math.sin(2*math.pi/Ni)\n",
    "    fe = [f[i] for i in range(Ni) if i % 2 == 0]\n",
    "    fo = [f[i] for i in range(Ni) if i % 2 == 1]\n",
    "    Fe = fft(fe)\n",
    "    Fo = fft(fo)\n",
    "    return [np.around(Fe[i] + (wn**i)*Fo[i], decimals=10) for i in range(Mi)] + [np.around(Fe[i] - (wn**i)*Fo[i], decimals=10) for i in range(Mi)]\n",
    "\n",
    "def fft(X):\n",
    "    N = len(X)\n",
    "    if N <= 1:\n",
    "        return X\n",
    "    even = fft(X[0::2])\n",
    "    odd = fft(X[1::2])\n",
    "\n",
    "    temp = [i for i in range(N)]\n",
    "    for k in range(N // 2):\n",
    "        temp[k] = even[k] + exp(-2.0j * pi * k / N) * odd[k]\n",
    "        temp[k + N // 2] = even[k] - exp(-2.0j * pi * k / N) * odd[k]\n",
    "    return temp\n",
    "\n",
    "def get_audio_data(filename):\n",
    "    fs = 2**12 # sample rate\n",
    "    tp = 2 # sampling duration\n",
    "    N = n = fs*tp # number of samples\n",
    "    \n",
    "    # Extract data and sampling rate from file\n",
    "    recording, fs = librosa.load(filename, sr=fs, duration=tp, mono=True)\n",
    "    n = len(recording)        \n",
    "    tp = int(n / fs)\n",
    "\n",
    "    if tp < 2:\n",
    "        pad_width = N - len(recording)\n",
    "        recording = np.pad(recording, pad_width=((0, pad_width),), mode='constant')\n",
    "\n",
    "        n = len(recording)\n",
    "        tp = int(n / fs)\n",
    "\n",
    "    N = fs*tp # number of samples\n",
    "    x = [np.round(float(recording[i]), 10) for i in range(n)] # input sequence\n",
    "    return x, tp, n\n",
    "\n",
    "def extract_features3(filename):\n",
    "    fs = 2**12 # sample rate\n",
    "    tp = 2 # sampling duration\n",
    "    \n",
    "    # Extract data and sampling rate from file\n",
    "    recording, fs = librosa.load(filename, sr=fs, duration=tp, mono=True)\n",
    "    Nfft = 512\n",
    "    stft = librosa.stft(recording, n_fft=Nfft, window=sig.windows.hamming)\n",
    "    stft = np.absolute(stft).mean(1)\n",
    "    freqs = librosa.fft_frequencies(sr=fs, n_fft=Nfft)\n",
    "    return freqs, stft\n",
    "    \n",
    "def get_top_frequencies(fi, X_amp, size):\n",
    "    fi = np.array(fi)\n",
    "    X_amp = np.array(X_amp)\n",
    "    \n",
    "    return fi[np.argsort(X_amp)[::-1][:size]]\n",
    "\n",
    "def get_frequency_amplitude(x, tp, N):\n",
    "    _X = fft(x) # discrete Fourier transform\n",
    "    X = [np.round(Xi/N, 10) for Xi in _X] # frequency spectrum\n",
    "    X_amp = [np.absolute(Xi) for Xi in X] # amplitude spectrum\n",
    "\n",
    "    M = int(N/2)\n",
    "    ti = np.array([i*tp/N for i in range(N)])\n",
    "    fi = np.array([i/tp for i in range(M)])\n",
    "    X_amp = np.array(X_amp[:M])*2\n",
    "    \n",
    "    return ti, fi, X_amp\n",
    "\n",
    "def extract_features(filepath):\n",
    "    # try:\n",
    "    audio_features = get_audio_data(filepath)\n",
    "    if not audio_features:\n",
    "        return\n",
    "\n",
    "    x, tp, N = audio_features\n",
    "    ti, fi, X_amp = get_frequency_amplitude(x, tp, N)\n",
    "    return fi, X_amp\n",
    "\n",
    "def get_data(data_dir: str, callback = lambda x: x) -> np.array:\n",
    "    # feature list\n",
    "    X, y = [], []\n",
    "\n",
    "    # Iterate through each sound file and extract the features \n",
    "    for folder in tqdm(os.listdir(data_dir)):\n",
    "        class_label = folder\n",
    "        \n",
    "        if class_label.startswith(\"0\"):\n",
    "            continue\n",
    "            \n",
    "        for file in os.listdir(os.path.join(data_dir, folder)):\n",
    "            file_name = os.path.join(os.path.join(data_dir, folder, file))\n",
    "            \n",
    "            X.append(callback(file_name))\n",
    "            y.append(class_label)\n",
    "    \n",
    "    X, y = map(np.array, [X, y])\n",
    "    return X, y\n",
    "\n",
    "def extract_features2(file_name):\n",
    "    audio, sample_rate = librosa.load(file_name, res_type='kaiser_fast', duration=3) \n",
    "    mfccs = librosa.feature.mfcc(y=audio, sr=sample_rate, n_mfcc=40)\n",
    "    \n",
    "#     pad_width = 256 - mfccs.shape[1]\n",
    "#     mfccs = np.pad(mfccs, pad_width=((0, 0), (0, pad_width)), mode='constant')     \n",
    "    \n",
    "    mfccs = mfccs.mean(1)\n",
    "    return np.arange(len(mfccs)), mfccs\n",
    "\n",
    "def plot_wave(ti, x, fi, X_amp):\n",
    "    plt.subplots_adjust(wspace=0.4, hspace=0.4)\n",
    "\n",
    "    ax1= plt.subplot(211)\n",
    "    plt.plot(ti, x)\n",
    "    plt.xlabel('t (seconds)')\n",
    "    plt.ylabel('x(t)')\n",
    "    plt.minorticks_on()\n",
    "    plt.grid(b=True, which='major', linestyle='-')\n",
    "    plt.grid(b=True, which='minor', linestyle='--')\n",
    "\n",
    "    ax2 = plt.subplot(212)\n",
    "    plt.plot(fi, X_amp)\n",
    "    plt.xlabel('f (hertz)')\n",
    "    plt.ylabel('|X(f)|')\n",
    "    ax2.set_xscale('log')\n",
    "    plt.minorticks_on()\n",
    "    plt.grid(b=True, which='major', linestyle='-')\n",
    "    plt.grid(b=True, which='minor', linestyle='--')\n",
    "\n",
    "    plt.show()"
   ]
  },
  {
   "cell_type": "code",
   "execution_count": 107,
   "metadata": {},
   "outputs": [
    {
     "data": {
      "text/plain": [
       "<function scipy.signal.windows.windows.hamming(M, sym=True)>"
      ]
     },
     "execution_count": 107,
     "metadata": {},
     "output_type": "execute_result"
    }
   ],
   "source": [
    "sig.windows.hamming"
   ]
  },
  {
   "cell_type": "markdown",
   "metadata": {},
   "source": [
    "#### CONSTANTS"
   ]
  },
  {
   "cell_type": "code",
   "execution_count": 8,
   "metadata": {},
   "outputs": [],
   "source": [
    "# DATA_DIR = os.path.join(\"data\" , \"old_guitar_sample\")\n",
    "DATA_DIR = os.path.join(\"data\" , \"guitar_sample\")"
   ]
  },
  {
   "cell_type": "code",
   "execution_count": 112,
   "metadata": {
    "scrolled": true
   },
   "outputs": [
    {
     "data": {
      "application/vnd.jupyter.widget-view+json": {
       "model_id": "ab5c808b5fbc492591ac40dd3efc521e",
       "version_major": 2,
       "version_minor": 0
      },
      "text/plain": [
       "HBox(children=(HTML(value=''), FloatProgress(value=0.0, max=12.0), HTML(value='')))"
      ]
     },
     "metadata": {},
     "output_type": "display_data"
    },
    {
     "name": "stdout",
     "output_type": "stream",
     "text": [
      "\n"
     ]
    }
   ],
   "source": [
    "input_data, output_data = get_data(DATA_DIR, extract_features)"
   ]
  },
  {
   "cell_type": "code",
   "execution_count": 118,
   "metadata": {
    "scrolled": true
   },
   "outputs": [
    {
     "data": {
      "text/plain": [
       "array([0. , 0.5, 1. ])"
      ]
     },
     "execution_count": 118,
     "metadata": {},
     "output_type": "execute_result"
    }
   ],
   "source": [
    "input_data[0, 0][:3]"
   ]
  },
  {
   "cell_type": "code",
   "execution_count": 120,
   "metadata": {
    "scrolled": true
   },
   "outputs": [
    {
     "data": {
      "application/vnd.jupyter.widget-view+json": {
       "model_id": "ac99ed5b08cf4188ad09c10877183217",
       "version_major": 2,
       "version_minor": 0
      },
      "text/plain": [
       "HBox(children=(HTML(value=''), FloatProgress(value=0.0, max=12.0), HTML(value='')))"
      ]
     },
     "metadata": {},
     "output_type": "display_data"
    },
    {
     "name": "stdout",
     "output_type": "stream",
     "text": [
      "\n"
     ]
    }
   ],
   "source": [
    "input_data, output_data = get_data(DATA_DIR, extract_features3)"
   ]
  },
  {
   "cell_type": "code",
   "execution_count": 121,
   "metadata": {},
   "outputs": [
    {
     "data": {
      "text/plain": [
       "((257,), (257,))"
      ]
     },
     "execution_count": 121,
     "metadata": {},
     "output_type": "execute_result"
    }
   ],
   "source": [
    "input_data[0, 0].shape, input_data[0, 1].shape"
   ]
  },
  {
   "cell_type": "code",
   "execution_count": 122,
   "metadata": {},
   "outputs": [
    {
     "data": {
      "text/plain": [
       "(118, 2, 257)"
      ]
     },
     "execution_count": 122,
     "metadata": {},
     "output_type": "execute_result"
    }
   ],
   "source": [
    "label = None\n",
    "\n",
    "if label is None:\n",
    "    is_label = f\"1G\"\n",
    "    not_label = f\"1A\"\n",
    "    X, y = input_data, output_data\n",
    "    \n",
    "else:\n",
    "    is_label = f\"1{label}\"\n",
    "    not_label = f\"0{label}\"\n",
    "\n",
    "    indices1 = np.where(output_data == is_label)[0]\n",
    "    indices2 = np.where(output_data != is_label)[0]\n",
    "\n",
    "    np.random.shuffle(indices2)\n",
    "    indices2 = indices2[:len(indices1)]\n",
    "    indices = np.concatenate([indices1, indices2])\n",
    "\n",
    "    X = input_data[indices]\n",
    "    y = output_data[indices]\n",
    "    y[-len(indices1):] = not_label\n",
    "\n",
    "X.shape"
   ]
  },
  {
   "cell_type": "code",
   "execution_count": 123,
   "metadata": {},
   "outputs": [],
   "source": [
    "index1 = np.where(y == is_label)[0][10]\n",
    "index2 = np.where(y == not_label)[0][0]"
   ]
  },
  {
   "cell_type": "code",
   "execution_count": 124,
   "metadata": {},
   "outputs": [
    {
     "data": {
      "text/plain": [
       "array([ 0,  1,  2,  3,  4,  5,  6,  7,  8,  9, 10, 11, 12, 13, 14, 15, 16,\n",
       "       17, 18, 19], dtype=int64)"
      ]
     },
     "execution_count": 124,
     "metadata": {},
     "output_type": "execute_result"
    }
   ],
   "source": [
    "np.where(y == not_label)[0]"
   ]
  },
  {
   "cell_type": "code",
   "execution_count": 128,
   "metadata": {
    "scrolled": false
   },
   "outputs": [
    {
     "data": {
      "text/plain": [
       "[<matplotlib.lines.Line2D at 0x234e2f28460>]"
      ]
     },
     "execution_count": 128,
     "metadata": {},
     "output_type": "execute_result"
    },
    {
     "data": {
      "image/png": "[encoded data removed]",
      "text/plain": [
       "<Figure size 432x288 with 1 Axes>"
      ]
     },
     "metadata": {
      "needs_background": "light"
     },
     "output_type": "display_data"
    }
   ],
   "source": [
    "plt.plot(X[index1, 0, :], X[index1, 1, :], color=\"blue\")\n",
    "plt.plot(X[index2, 0, :], X[index2, 1, :], color=\"red\")"
   ]
  },
  {
   "cell_type": "code",
   "execution_count": 93,
   "metadata": {
    "scrolled": false
   },
   "outputs": [
    {
     "name": "stdout",
     "output_type": "stream",
     "text": [
      "Identified outliers: 17, min =    80.00, max =   768.00, mean =   336.00\n"
     ]
    }
   ],
   "source": [
    "def get_outlier_amplitude_frequency(freq, amplitude):\n",
    "    # calculate interquartile range\n",
    "    q25, q75 = np.percentile(amplitude, 25), np.percentile(amplitude, 75)\n",
    "    iqr = q75 - q25\n",
    "#     print('Percentiles: 25th=%.3f, 75th=%.3f, IQR=%.8f' % (q25, q75, iqr))\n",
    "\n",
    "    # calculate the outlier cutoff\n",
    "    cut_off = iqr * 1.5\n",
    "    lower, upper = q25 - cut_off, q75 + cut_off\n",
    "\n",
    "    # identify outliers\n",
    "    outlier_freq = freq[(amplitude < lower) | (amplitude > upper)]\n",
    "    print(f'Identified outliers: {len(outlier_freq):d}, min = {outlier_freq.min():8.2f}, max = {outlier_freq.max():8.2f}, mean = {outlier_freq.mean():8.2f}')\n",
    "\n",
    "get_outlier_amplitude_frequency(X[0, 0, :], X[0, 1, :])"
   ]
  },
  {
   "cell_type": "code",
   "execution_count": 94,
   "metadata": {
    "scrolled": false
   },
   "outputs": [
    {
     "name": "stdout",
     "output_type": "stream",
     "text": [
      " 1G: 384.00 Identified outliers: 19, min =   112.00, max =  1744.00, mean =   672.00\n",
      " 1G: 192.00 Identified outliers: 23, min =   112.00, max =  1360.00, mean =   590.61\n",
      " 1G: 192.00 Identified outliers: 24, min =   112.00, max =  1552.00, mean =   669.33\n",
      " 1G: 384.00 Identified outliers: 20, min =   112.00, max =  1360.00, mean =   593.60\n",
      " 1G: 192.00 Identified outliers: 22, min =   112.00, max =  1360.00, mean =   598.55\n",
      " 1G: 384.00 Identified outliers: 20, min =   112.00, max =  1360.00, mean =   584.00\n",
      " 1G: 192.00 Identified outliers: 19, min =   112.00, max =  1360.00, mean =   592.84\n",
      " 1G: 192.00 Identified outliers: 20, min =   112.00, max =  1360.00, mean =   620.80\n",
      " 1G: 192.00 Identified outliers: 20, min =   112.00, max =  1360.00, mean =   593.60\n",
      " 1G: 192.00 Identified outliers: 21, min =   112.00, max =  1168.00, mean =   562.29\n",
      " 1G: 192.00 Identified outliers: 24, min =   112.00, max =  1552.00, mean =   669.33\n",
      " 1G: 384.00 Identified outliers: 21, min =   112.00, max =  1744.00, mean =   701.71\n",
      " 1G: 192.00 Identified outliers: 21, min =   112.00, max =  1360.00, mean =   620.19\n",
      " 1G: 384.00 Identified outliers: 23, min =   112.00, max =  1744.00, mean =   724.87\n",
      " 1G: 384.00 Identified outliers: 23, min =   112.00, max =  1744.00, mean =   724.87\n",
      " 1G: 192.00 Identified outliers: 22, min =   112.00, max =  1552.00, mean =   696.00\n",
      " 1G: 384.00 Identified outliers: 23, min =   112.00, max =  1360.00, mean =   590.61\n",
      " 1G: 192.00 Identified outliers: 19, min =   112.00, max =  1360.00, mean =   567.58\n",
      " 1G: 192.00 Identified outliers: 19, min =   112.00, max =  1360.00, mean =   592.84\n",
      " 1G: 384.00 Identified outliers: 23, min =   112.00, max =  1360.00, mean =   630.96\n"
     ]
    }
   ],
   "source": [
    "indices = np.random.randint(len(y), size=10)\n",
    "indices = np.where(y == is_label)[0]\n",
    "\n",
    "for index in indices:\n",
    "    print(f\"{y[index]:>3s}: {X[index, 0][X[index, 1].argmax()]:5.2f}\", end=\" \")\n",
    "    get_outlier_amplitude_frequency(X[index, 0, :], X[index, 1, :])"
   ]
  },
  {
   "cell_type": "code",
   "execution_count": 95,
   "metadata": {},
   "outputs": [
    {
     "name": "stdout",
     "output_type": "stream",
     "text": [
      " 1A: 112.00 Identified outliers: 17, min =    80.00, max =   768.00, mean =   336.00\n",
      " 1A: 112.00 Identified outliers: 17, min =    80.00, max =   768.00, mean =   329.41\n",
      " 1A: 112.00 Identified outliers: 17, min =    80.00, max =   768.00, mean =   329.41\n",
      " 1A: 112.00 Identified outliers: 17, min =    80.00, max =   768.00, mean =   329.41\n",
      " 1A: 112.00 Identified outliers: 16, min =    96.00, max =   768.00, mean =   345.00\n",
      " 1A: 112.00 Identified outliers: 17, min =    80.00, max =   768.00, mean =   329.41\n",
      " 1A: 112.00 Identified outliers: 17, min =    80.00, max =   768.00, mean =   329.41\n",
      " 1A: 112.00 Identified outliers: 17, min =    80.00, max =   768.00, mean =   329.41\n",
      " 1A: 112.00 Identified outliers: 17, min =    80.00, max =   768.00, mean =   329.41\n",
      " 1A: 112.00 Identified outliers: 18, min =    80.00, max =   768.00, mean =   330.67\n",
      " 1A: 112.00 Identified outliers: 17, min =    80.00, max =   768.00, mean =   329.41\n",
      " 1A: 112.00 Identified outliers: 20, min =    80.00, max =  1856.00, mean =   423.20\n",
      " 1A: 112.00 Identified outliers: 18, min =    80.00, max =   768.00, mean =   330.67\n",
      " 1A: 112.00 Identified outliers: 19, min =    80.00, max =  1856.00, mean =   426.95\n",
      " 1A: 112.00 Identified outliers: 18, min =    80.00, max =   768.00, mean =   347.56\n",
      " 1A: 112.00 Identified outliers: 18, min =    80.00, max =   768.00, mean =   347.56\n",
      " 1A: 112.00 Identified outliers: 17, min =    80.00, max =   768.00, mean =   329.41\n",
      " 1A: 112.00 Identified outliers: 17, min =    80.00, max =   768.00, mean =   329.41\n",
      " 1A: 112.00 Identified outliers: 18, min =    80.00, max =  1856.00, mean =   414.22\n",
      " 1A: 112.00 Identified outliers: 17, min =    80.00, max =   768.00, mean =   329.41\n"
     ]
    }
   ],
   "source": [
    "# indices = np.random.randint(len(y), size=20)\n",
    "indices = np.where(y == not_label)[0]\n",
    "\n",
    "for index in indices:\n",
    "    print(f\"{y[index]:>3s}: {X[index, 0][X[index, 1].argmax()]:5.2f}\", end=\" \")\n",
    "    get_outlier_amplitude_frequency(X[index, 0, :], X[index, 1, :])"
   ]
  },
  {
   "cell_type": "code",
   "execution_count": 96,
   "metadata": {},
   "outputs": [
    {
     "data": {
      "text/plain": [
       "array(['1A', '1B', '1D', '1EH', '1EL', '1G'], dtype='<U3')"
      ]
     },
     "execution_count": 96,
     "metadata": {},
     "output_type": "execute_result"
    }
   ],
   "source": [
    "from sklearn import preprocessing\n",
    "\n",
    "le = preprocessing.LabelEncoder()\n",
    "y_train_le = le.fit(y)\n",
    "\n",
    "le.classes_"
   ]
  },
  {
   "cell_type": "code",
   "execution_count": 97,
   "metadata": {},
   "outputs": [
    {
     "name": "stdout",
     "output_type": "stream",
     "text": [
      "training accuracy = 1.00\n",
      "test accuracy = 1.00\n"
     ]
    }
   ],
   "source": [
    "from sklearn.neighbors import KNeighborsClassifier\n",
    "from sklearn.model_selection import StratifiedShuffleSplit\n",
    "\n",
    "# split train and test data\n",
    "sss = StratifiedShuffleSplit(n_splits=1, test_size=0.25, random_state=100)\n",
    "for train_index, test_index in sss.split(X, y):\n",
    "    x_train, x_test = X[:, 1][train_index], X[:, 1][test_index]\n",
    "    y_train_label, y_test_label = y[train_index], y[test_index]\n",
    "    y_train, y_test = map(le.transform, [y_train_label, y_test_label])\n",
    "    \n",
    "    \n",
    "clf = KNeighborsClassifier(n_neighbors=3, weights=\"distance\")\n",
    "clf.fit(x_train, y_train_label)\n",
    "\n",
    "clf.fit(x_train, y_train_label)\n",
    "print(f\"training accuracy = {clf.score(x_train, y_train_label):.2f}\")\n",
    "print(f\"test accuracy = {clf.score(x_test, y_test_label):.2f}\")"
   ]
  },
  {
   "cell_type": "code",
   "execution_count": 98,
   "metadata": {},
   "outputs": [
    {
     "data": {
      "text/plain": [
       "array([[5, 0, 0, 0, 0, 0],\n",
       "       [0, 5, 0, 0, 0, 0],\n",
       "       [0, 0, 5, 0, 0, 0],\n",
       "       [0, 0, 0, 5, 0, 0],\n",
       "       [0, 0, 0, 0, 5, 0],\n",
       "       [0, 0, 0, 0, 0, 5]], dtype=int64)"
      ]
     },
     "execution_count": 98,
     "metadata": {},
     "output_type": "execute_result"
    }
   ],
   "source": [
    "from sklearn.metrics import confusion_matrix\n",
    "\n",
    "y_pred = clf.predict(x_test)\n",
    "confusion_matrix(y_test_label, y_pred)"
   ]
  },
  {
   "cell_type": "code",
   "execution_count": 99,
   "metadata": {},
   "outputs": [
    {
     "name": "stdout",
     "output_type": "stream",
     "text": [
      "              precision    recall  f1-score   support\n",
      "\n",
      "          1A       1.00      1.00      1.00         5\n",
      "          1B       1.00      1.00      1.00         5\n",
      "          1D       1.00      1.00      1.00         5\n",
      "         1EH       1.00      1.00      1.00         5\n",
      "         1EL       1.00      1.00      1.00         5\n",
      "          1G       1.00      1.00      1.00         5\n",
      "\n",
      "    accuracy                           1.00        30\n",
      "   macro avg       1.00      1.00      1.00        30\n",
      "weighted avg       1.00      1.00      1.00        30\n",
      "\n"
     ]
    }
   ],
   "source": [
    "from sklearn.metrics import classification_report\n",
    "\n",
    "print(classification_report(y_test_label, y_pred))"
   ]
  },
  {
   "cell_type": "code",
   "execution_count": 100,
   "metadata": {},
   "outputs": [
    {
     "data": {
      "application/vnd.jupyter.widget-view+json": {
       "model_id": "fd6df1c1435b4df582be5d2860480e3b",
       "version_major": 2,
       "version_minor": 0
      },
      "text/plain": [
       "HBox(children=(HTML(value=''), FloatProgress(value=0.0, max=6.0), HTML(value='')))"
      ]
     },
     "metadata": {},
     "output_type": "display_data"
    },
    {
     "name": "stdout",
     "output_type": "stream",
     "text": [
      "EH, D, A, B, G, EL, \n",
      "\n",
      "(58, 129)\n"
     ]
    }
   ],
   "source": [
    "x_test_sample = []\n",
    "y_test_sample = []\n",
    "\n",
    "sample_dirs = [\"EH\", \"D\", \"A\", \"B\", \"G\", \"EL\"]\n",
    "# sample_dirs = [\"A\"]\n",
    "\n",
    "for class_label in tqdm(sample_dirs):\n",
    "    print(class_label, end=\", \")\n",
    "    labeldir= os.path.join(\"data\", \"old_guitar_sample\", class_label)\n",
    "\n",
    "    for filename in (os.listdir(labeldir)):\n",
    "        anchor_filepath = os.path.join(\"data\", \"old_guitar_sample\", class_label, filename)\n",
    "        \n",
    "        anchor_file_vector = extract_features3(anchor_filepath)\n",
    "        x_test_sample.append(anchor_file_vector[1])\n",
    "        if label is None:\n",
    "            y_test_sample.append(f\"1{class_label}\")\n",
    "        \n",
    "        else:\n",
    "            y_test_sample.append(f\"1{label}\" if label == class_label else f\"0{label}\")\n",
    "\n",
    "print()\n",
    "x_test_sample = np.array(x_test_sample)\n",
    "y_test_sample = np.array(y_test_sample)\n",
    "\n",
    "print(x_test_sample.shape)"
   ]
  },
  {
   "cell_type": "code",
   "execution_count": 101,
   "metadata": {},
   "outputs": [
    {
     "name": "stdout",
     "output_type": "stream",
     "text": [
      "test accuracy = 1.00\n"
     ]
    }
   ],
   "source": [
    "print(f\"test accuracy = {clf.score(x_test_sample, y_test_sample):.2f}\")"
   ]
  },
  {
   "cell_type": "code",
   "execution_count": 102,
   "metadata": {},
   "outputs": [
    {
     "data": {
      "text/plain": [
       "array([[10,  0,  0,  0,  0,  0],\n",
       "       [ 0, 10,  0,  0,  0,  0],\n",
       "       [ 0,  0, 10,  0,  0,  0],\n",
       "       [ 0,  0,  0, 10,  0,  0],\n",
       "       [ 0,  0,  0,  0,  9,  0],\n",
       "       [ 0,  0,  0,  0,  0,  9]], dtype=int64)"
      ]
     },
     "execution_count": 102,
     "metadata": {},
     "output_type": "execute_result"
    }
   ],
   "source": [
    "from sklearn.metrics import confusion_matrix\n",
    "\n",
    "y_pred = clf.predict(x_test_sample)\n",
    "confusion_matrix(y_test_sample, y_pred)"
   ]
  },
  {
   "cell_type": "code",
   "execution_count": 103,
   "metadata": {
    "scrolled": true
   },
   "outputs": [
    {
     "name": "stdout",
     "output_type": "stream",
     "text": [
      "              precision    recall  f1-score   support\n",
      "\n",
      "          1A       1.00      1.00      1.00        10\n",
      "          1B       1.00      1.00      1.00        10\n",
      "          1D       1.00      1.00      1.00        10\n",
      "         1EH       1.00      1.00      1.00        10\n",
      "         1EL       1.00      1.00      1.00         9\n",
      "          1G       1.00      1.00      1.00         9\n",
      "\n",
      "    accuracy                           1.00        58\n",
      "   macro avg       1.00      1.00      1.00        58\n",
      "weighted avg       1.00      1.00      1.00        58\n",
      "\n"
     ]
    }
   ],
   "source": [
    "from sklearn.metrics import classification_report\n",
    "\n",
    "print(classification_report(y_test_sample, y_pred))"
   ]
  },
  {
   "cell_type": "code",
   "execution_count": 104,
   "metadata": {},
   "outputs": [
    {
     "name": "stdout",
     "output_type": "stream",
     "text": [
      " 1A: 778.00 Identified outliers: 366, min =   102.00, max =  1950.00, mean =   830.13\n"
     ]
    }
   ],
   "source": [
    "sample_fi, sample_amp = extract_features(os.path.join(DATA_DIR, \"..\", \"sampleG.wav\"))\n",
    "\n",
    "print(f'{\"1A\":>3s}: {sample_fi[sample_amp.argmax()]:5.2f}', end=\" \")\n",
    "get_outlier_amplitude_frequency(sample_fi, sample_amp)"
   ]
  },
  {
   "cell_type": "code",
   "execution_count": 105,
   "metadata": {
    "scrolled": true
   },
   "outputs": [
    {
     "data": {
      "text/plain": [
       "((118, 129), (4096,))"
      ]
     },
     "execution_count": 105,
     "metadata": {},
     "output_type": "execute_result"
    }
   ],
   "source": [
    "X[:, 1].shape, sample_amp.shape"
   ]
  },
  {
   "cell_type": "code",
   "execution_count": 106,
   "metadata": {},
   "outputs": [
    {
     "ename": "ValueError",
     "evalue": "query data dimension must match training data dimension",
     "output_type": "error",
     "traceback": [
      "\u001b[1;31m---------------------------------------------------------------------------\u001b[0m",
      "\u001b[1;31mValueError\u001b[0m                                Traceback (most recent call last)",
      "\u001b[1;32m<ipython-input-106-744017caf967>\u001b[0m in \u001b[0;36m<module>\u001b[1;34m\u001b[0m\n\u001b[1;32m----> 1\u001b[1;33m \u001b[0mprint\u001b[0m\u001b[1;33m(\u001b[0m\u001b[0mclf\u001b[0m\u001b[1;33m.\u001b[0m\u001b[0mpredict\u001b[0m\u001b[1;33m(\u001b[0m\u001b[1;33m[\u001b[0m\u001b[0msample_amp\u001b[0m\u001b[1;33m]\u001b[0m\u001b[1;33m)\u001b[0m\u001b[1;33m)\u001b[0m\u001b[1;33m\u001b[0m\u001b[1;33m\u001b[0m\u001b[0m\n\u001b[0m",
      "\u001b[1;32mc:\\users\\christian\\.virtualenvs\\guitar_audio_sample_detection\\lib\\site-packages\\sklearn\\neighbors\\_classification.py\u001b[0m in \u001b[0;36mpredict\u001b[1;34m(self, X)\u001b[0m\n\u001b[0;32m    173\u001b[0m         \u001b[0mX\u001b[0m \u001b[1;33m=\u001b[0m \u001b[0mcheck_array\u001b[0m\u001b[1;33m(\u001b[0m\u001b[0mX\u001b[0m\u001b[1;33m,\u001b[0m \u001b[0maccept_sparse\u001b[0m\u001b[1;33m=\u001b[0m\u001b[1;34m'csr'\u001b[0m\u001b[1;33m)\u001b[0m\u001b[1;33m\u001b[0m\u001b[1;33m\u001b[0m\u001b[0m\n\u001b[0;32m    174\u001b[0m \u001b[1;33m\u001b[0m\u001b[0m\n\u001b[1;32m--> 175\u001b[1;33m         \u001b[0mneigh_dist\u001b[0m\u001b[1;33m,\u001b[0m \u001b[0mneigh_ind\u001b[0m \u001b[1;33m=\u001b[0m \u001b[0mself\u001b[0m\u001b[1;33m.\u001b[0m\u001b[0mkneighbors\u001b[0m\u001b[1;33m(\u001b[0m\u001b[0mX\u001b[0m\u001b[1;33m)\u001b[0m\u001b[1;33m\u001b[0m\u001b[1;33m\u001b[0m\u001b[0m\n\u001b[0m\u001b[0;32m    176\u001b[0m         \u001b[0mclasses_\u001b[0m \u001b[1;33m=\u001b[0m \u001b[0mself\u001b[0m\u001b[1;33m.\u001b[0m\u001b[0mclasses_\u001b[0m\u001b[1;33m\u001b[0m\u001b[1;33m\u001b[0m\u001b[0m\n\u001b[0;32m    177\u001b[0m         \u001b[0m_y\u001b[0m \u001b[1;33m=\u001b[0m \u001b[0mself\u001b[0m\u001b[1;33m.\u001b[0m\u001b[0m_y\u001b[0m\u001b[1;33m\u001b[0m\u001b[1;33m\u001b[0m\u001b[0m\n",
      "\u001b[1;32mc:\\users\\christian\\.virtualenvs\\guitar_audio_sample_detection\\lib\\site-packages\\sklearn\\neighbors\\_base.py\u001b[0m in \u001b[0;36mkneighbors\u001b[1;34m(self, X, n_neighbors, return_distance)\u001b[0m\n\u001b[0;32m    660\u001b[0m                 \u001b[0mdelayed_query\u001b[0m \u001b[1;33m=\u001b[0m \u001b[0mdelayed\u001b[0m\u001b[1;33m(\u001b[0m\u001b[0m_tree_query_parallel_helper\u001b[0m\u001b[1;33m)\u001b[0m\u001b[1;33m\u001b[0m\u001b[1;33m\u001b[0m\u001b[0m\n\u001b[0;32m    661\u001b[0m                 \u001b[0mparallel_kwargs\u001b[0m \u001b[1;33m=\u001b[0m \u001b[1;33m{\u001b[0m\u001b[1;34m\"prefer\"\u001b[0m\u001b[1;33m:\u001b[0m \u001b[1;34m\"threads\"\u001b[0m\u001b[1;33m}\u001b[0m\u001b[1;33m\u001b[0m\u001b[1;33m\u001b[0m\u001b[0m\n\u001b[1;32m--> 662\u001b[1;33m             chunked_results = Parallel(n_jobs, **parallel_kwargs)(\n\u001b[0m\u001b[0;32m    663\u001b[0m                 delayed_query(\n\u001b[0;32m    664\u001b[0m                     self._tree, X[s], n_neighbors, return_distance)\n",
      "\u001b[1;32mc:\\users\\christian\\.virtualenvs\\guitar_audio_sample_detection\\lib\\site-packages\\joblib\\parallel.py\u001b[0m in \u001b[0;36m__call__\u001b[1;34m(self, iterable)\u001b[0m\n\u001b[0;32m   1046\u001b[0m             \u001b[1;31m# remaining jobs.\u001b[0m\u001b[1;33m\u001b[0m\u001b[1;33m\u001b[0m\u001b[1;33m\u001b[0m\u001b[0m\n\u001b[0;32m   1047\u001b[0m             \u001b[0mself\u001b[0m\u001b[1;33m.\u001b[0m\u001b[0m_iterating\u001b[0m \u001b[1;33m=\u001b[0m \u001b[1;32mFalse\u001b[0m\u001b[1;33m\u001b[0m\u001b[1;33m\u001b[0m\u001b[0m\n\u001b[1;32m-> 1048\u001b[1;33m             \u001b[1;32mif\u001b[0m \u001b[0mself\u001b[0m\u001b[1;33m.\u001b[0m\u001b[0mdispatch_one_batch\u001b[0m\u001b[1;33m(\u001b[0m\u001b[0miterator\u001b[0m\u001b[1;33m)\u001b[0m\u001b[1;33m:\u001b[0m\u001b[1;33m\u001b[0m\u001b[1;33m\u001b[0m\u001b[0m\n\u001b[0m\u001b[0;32m   1049\u001b[0m                 \u001b[0mself\u001b[0m\u001b[1;33m.\u001b[0m\u001b[0m_iterating\u001b[0m \u001b[1;33m=\u001b[0m \u001b[0mself\u001b[0m\u001b[1;33m.\u001b[0m\u001b[0m_original_iterator\u001b[0m \u001b[1;32mis\u001b[0m \u001b[1;32mnot\u001b[0m \u001b[1;32mNone\u001b[0m\u001b[1;33m\u001b[0m\u001b[1;33m\u001b[0m\u001b[0m\n\u001b[0;32m   1050\u001b[0m \u001b[1;33m\u001b[0m\u001b[0m\n",
      "\u001b[1;32mc:\\users\\christian\\.virtualenvs\\guitar_audio_sample_detection\\lib\\site-packages\\joblib\\parallel.py\u001b[0m in \u001b[0;36mdispatch_one_batch\u001b[1;34m(self, iterator)\u001b[0m\n\u001b[0;32m    864\u001b[0m                 \u001b[1;32mreturn\u001b[0m \u001b[1;32mFalse\u001b[0m\u001b[1;33m\u001b[0m\u001b[1;33m\u001b[0m\u001b[0m\n\u001b[0;32m    865\u001b[0m             \u001b[1;32melse\u001b[0m\u001b[1;33m:\u001b[0m\u001b[1;33m\u001b[0m\u001b[1;33m\u001b[0m\u001b[0m\n\u001b[1;32m--> 866\u001b[1;33m                 \u001b[0mself\u001b[0m\u001b[1;33m.\u001b[0m\u001b[0m_dispatch\u001b[0m\u001b[1;33m(\u001b[0m\u001b[0mtasks\u001b[0m\u001b[1;33m)\u001b[0m\u001b[1;33m\u001b[0m\u001b[1;33m\u001b[0m\u001b[0m\n\u001b[0m\u001b[0;32m    867\u001b[0m                 \u001b[1;32mreturn\u001b[0m \u001b[1;32mTrue\u001b[0m\u001b[1;33m\u001b[0m\u001b[1;33m\u001b[0m\u001b[0m\n\u001b[0;32m    868\u001b[0m \u001b[1;33m\u001b[0m\u001b[0m\n",
      "\u001b[1;32mc:\\users\\christian\\.virtualenvs\\guitar_audio_sample_detection\\lib\\site-packages\\joblib\\parallel.py\u001b[0m in \u001b[0;36m_dispatch\u001b[1;34m(self, batch)\u001b[0m\n\u001b[0;32m    782\u001b[0m         \u001b[1;32mwith\u001b[0m \u001b[0mself\u001b[0m\u001b[1;33m.\u001b[0m\u001b[0m_lock\u001b[0m\u001b[1;33m:\u001b[0m\u001b[1;33m\u001b[0m\u001b[1;33m\u001b[0m\u001b[0m\n\u001b[0;32m    783\u001b[0m             \u001b[0mjob_idx\u001b[0m \u001b[1;33m=\u001b[0m \u001b[0mlen\u001b[0m\u001b[1;33m(\u001b[0m\u001b[0mself\u001b[0m\u001b[1;33m.\u001b[0m\u001b[0m_jobs\u001b[0m\u001b[1;33m)\u001b[0m\u001b[1;33m\u001b[0m\u001b[1;33m\u001b[0m\u001b[0m\n\u001b[1;32m--> 784\u001b[1;33m             \u001b[0mjob\u001b[0m \u001b[1;33m=\u001b[0m \u001b[0mself\u001b[0m\u001b[1;33m.\u001b[0m\u001b[0m_backend\u001b[0m\u001b[1;33m.\u001b[0m\u001b[0mapply_async\u001b[0m\u001b[1;33m(\u001b[0m\u001b[0mbatch\u001b[0m\u001b[1;33m,\u001b[0m \u001b[0mcallback\u001b[0m\u001b[1;33m=\u001b[0m\u001b[0mcb\u001b[0m\u001b[1;33m)\u001b[0m\u001b[1;33m\u001b[0m\u001b[1;33m\u001b[0m\u001b[0m\n\u001b[0m\u001b[0;32m    785\u001b[0m             \u001b[1;31m# A job can complete so quickly than its callback is\u001b[0m\u001b[1;33m\u001b[0m\u001b[1;33m\u001b[0m\u001b[1;33m\u001b[0m\u001b[0m\n\u001b[0;32m    786\u001b[0m             \u001b[1;31m# called before we get here, causing self._jobs to\u001b[0m\u001b[1;33m\u001b[0m\u001b[1;33m\u001b[0m\u001b[1;33m\u001b[0m\u001b[0m\n",
      "\u001b[1;32mc:\\users\\christian\\.virtualenvs\\guitar_audio_sample_detection\\lib\\site-packages\\joblib\\_parallel_backends.py\u001b[0m in \u001b[0;36mapply_async\u001b[1;34m(self, func, callback)\u001b[0m\n\u001b[0;32m    206\u001b[0m     \u001b[1;32mdef\u001b[0m \u001b[0mapply_async\u001b[0m\u001b[1;33m(\u001b[0m\u001b[0mself\u001b[0m\u001b[1;33m,\u001b[0m \u001b[0mfunc\u001b[0m\u001b[1;33m,\u001b[0m \u001b[0mcallback\u001b[0m\u001b[1;33m=\u001b[0m\u001b[1;32mNone\u001b[0m\u001b[1;33m)\u001b[0m\u001b[1;33m:\u001b[0m\u001b[1;33m\u001b[0m\u001b[1;33m\u001b[0m\u001b[0m\n\u001b[0;32m    207\u001b[0m         \u001b[1;34m\"\"\"Schedule a func to be run\"\"\"\u001b[0m\u001b[1;33m\u001b[0m\u001b[1;33m\u001b[0m\u001b[0m\n\u001b[1;32m--> 208\u001b[1;33m         \u001b[0mresult\u001b[0m \u001b[1;33m=\u001b[0m \u001b[0mImmediateResult\u001b[0m\u001b[1;33m(\u001b[0m\u001b[0mfunc\u001b[0m\u001b[1;33m)\u001b[0m\u001b[1;33m\u001b[0m\u001b[1;33m\u001b[0m\u001b[0m\n\u001b[0m\u001b[0;32m    209\u001b[0m         \u001b[1;32mif\u001b[0m \u001b[0mcallback\u001b[0m\u001b[1;33m:\u001b[0m\u001b[1;33m\u001b[0m\u001b[1;33m\u001b[0m\u001b[0m\n\u001b[0;32m    210\u001b[0m             \u001b[0mcallback\u001b[0m\u001b[1;33m(\u001b[0m\u001b[0mresult\u001b[0m\u001b[1;33m)\u001b[0m\u001b[1;33m\u001b[0m\u001b[1;33m\u001b[0m\u001b[0m\n",
      "\u001b[1;32mc:\\users\\christian\\.virtualenvs\\guitar_audio_sample_detection\\lib\\site-packages\\joblib\\_parallel_backends.py\u001b[0m in \u001b[0;36m__init__\u001b[1;34m(self, batch)\u001b[0m\n\u001b[0;32m    570\u001b[0m         \u001b[1;31m# Don't delay the application, to avoid keeping the input\u001b[0m\u001b[1;33m\u001b[0m\u001b[1;33m\u001b[0m\u001b[1;33m\u001b[0m\u001b[0m\n\u001b[0;32m    571\u001b[0m         \u001b[1;31m# arguments in memory\u001b[0m\u001b[1;33m\u001b[0m\u001b[1;33m\u001b[0m\u001b[1;33m\u001b[0m\u001b[0m\n\u001b[1;32m--> 572\u001b[1;33m         \u001b[0mself\u001b[0m\u001b[1;33m.\u001b[0m\u001b[0mresults\u001b[0m \u001b[1;33m=\u001b[0m \u001b[0mbatch\u001b[0m\u001b[1;33m(\u001b[0m\u001b[1;33m)\u001b[0m\u001b[1;33m\u001b[0m\u001b[1;33m\u001b[0m\u001b[0m\n\u001b[0m\u001b[0;32m    573\u001b[0m \u001b[1;33m\u001b[0m\u001b[0m\n\u001b[0;32m    574\u001b[0m     \u001b[1;32mdef\u001b[0m \u001b[0mget\u001b[0m\u001b[1;33m(\u001b[0m\u001b[0mself\u001b[0m\u001b[1;33m)\u001b[0m\u001b[1;33m:\u001b[0m\u001b[1;33m\u001b[0m\u001b[1;33m\u001b[0m\u001b[0m\n",
      "\u001b[1;32mc:\\users\\christian\\.virtualenvs\\guitar_audio_sample_detection\\lib\\site-packages\\joblib\\parallel.py\u001b[0m in \u001b[0;36m__call__\u001b[1;34m(self)\u001b[0m\n\u001b[0;32m    260\u001b[0m         \u001b[1;31m# change the default number of processes to -1\u001b[0m\u001b[1;33m\u001b[0m\u001b[1;33m\u001b[0m\u001b[1;33m\u001b[0m\u001b[0m\n\u001b[0;32m    261\u001b[0m         \u001b[1;32mwith\u001b[0m \u001b[0mparallel_backend\u001b[0m\u001b[1;33m(\u001b[0m\u001b[0mself\u001b[0m\u001b[1;33m.\u001b[0m\u001b[0m_backend\u001b[0m\u001b[1;33m,\u001b[0m \u001b[0mn_jobs\u001b[0m\u001b[1;33m=\u001b[0m\u001b[0mself\u001b[0m\u001b[1;33m.\u001b[0m\u001b[0m_n_jobs\u001b[0m\u001b[1;33m)\u001b[0m\u001b[1;33m:\u001b[0m\u001b[1;33m\u001b[0m\u001b[1;33m\u001b[0m\u001b[0m\n\u001b[1;32m--> 262\u001b[1;33m             return [func(*args, **kwargs)\n\u001b[0m\u001b[0;32m    263\u001b[0m                     for func, args, kwargs in self.items]\n\u001b[0;32m    264\u001b[0m \u001b[1;33m\u001b[0m\u001b[0m\n",
      "\u001b[1;32mc:\\users\\christian\\.virtualenvs\\guitar_audio_sample_detection\\lib\\site-packages\\joblib\\parallel.py\u001b[0m in \u001b[0;36m<listcomp>\u001b[1;34m(.0)\u001b[0m\n\u001b[0;32m    260\u001b[0m         \u001b[1;31m# change the default number of processes to -1\u001b[0m\u001b[1;33m\u001b[0m\u001b[1;33m\u001b[0m\u001b[1;33m\u001b[0m\u001b[0m\n\u001b[0;32m    261\u001b[0m         \u001b[1;32mwith\u001b[0m \u001b[0mparallel_backend\u001b[0m\u001b[1;33m(\u001b[0m\u001b[0mself\u001b[0m\u001b[1;33m.\u001b[0m\u001b[0m_backend\u001b[0m\u001b[1;33m,\u001b[0m \u001b[0mn_jobs\u001b[0m\u001b[1;33m=\u001b[0m\u001b[0mself\u001b[0m\u001b[1;33m.\u001b[0m\u001b[0m_n_jobs\u001b[0m\u001b[1;33m)\u001b[0m\u001b[1;33m:\u001b[0m\u001b[1;33m\u001b[0m\u001b[1;33m\u001b[0m\u001b[0m\n\u001b[1;32m--> 262\u001b[1;33m             return [func(*args, **kwargs)\n\u001b[0m\u001b[0;32m    263\u001b[0m                     for func, args, kwargs in self.items]\n\u001b[0;32m    264\u001b[0m \u001b[1;33m\u001b[0m\u001b[0m\n",
      "\u001b[1;32mc:\\users\\christian\\.virtualenvs\\guitar_audio_sample_detection\\lib\\site-packages\\sklearn\\neighbors\\_base.py\u001b[0m in \u001b[0;36m_tree_query_parallel_helper\u001b[1;34m(tree, *args, **kwargs)\u001b[0m\n\u001b[0;32m    490\u001b[0m     \u001b[0munder\u001b[0m \u001b[0mPyPy\u001b[0m\u001b[1;33m.\u001b[0m\u001b[1;33m\u001b[0m\u001b[1;33m\u001b[0m\u001b[0m\n\u001b[0;32m    491\u001b[0m     \"\"\"\n\u001b[1;32m--> 492\u001b[1;33m     \u001b[1;32mreturn\u001b[0m \u001b[0mtree\u001b[0m\u001b[1;33m.\u001b[0m\u001b[0mquery\u001b[0m\u001b[1;33m(\u001b[0m\u001b[1;33m*\u001b[0m\u001b[0margs\u001b[0m\u001b[1;33m,\u001b[0m \u001b[1;33m**\u001b[0m\u001b[0mkwargs\u001b[0m\u001b[1;33m)\u001b[0m\u001b[1;33m\u001b[0m\u001b[1;33m\u001b[0m\u001b[0m\n\u001b[0m\u001b[0;32m    493\u001b[0m \u001b[1;33m\u001b[0m\u001b[0m\n\u001b[0;32m    494\u001b[0m \u001b[1;33m\u001b[0m\u001b[0m\n",
      "\u001b[1;32msklearn\\neighbors\\_binary_tree.pxi\u001b[0m in \u001b[0;36msklearn.neighbors._kd_tree.BinaryTree.query\u001b[1;34m()\u001b[0m\n",
      "\u001b[1;31mValueError\u001b[0m: query data dimension must match training data dimension"
     ]
    }
   ],
   "source": [
    "print(clf.predict([sample_amp]))"
   ]
  },
  {
   "cell_type": "code",
   "execution_count": null,
   "metadata": {},
   "outputs": [],
   "source": [
    "print(clf.predict_proba([sample_amp]))"
   ]
  },
  {
   "cell_type": "code",
   "execution_count": null,
   "metadata": {},
   "outputs": [],
   "source": [
    "clf.classes_"
   ]
  },
  {
   "cell_type": "code",
   "execution_count": null,
   "metadata": {},
   "outputs": [],
   "source": []
  },
  {
   "cell_type": "code",
   "execution_count": null,
   "metadata": {},
   "outputs": [],
   "source": []
  }
 ],
 "metadata": {
  "kernelspec": {
   "display_name": "Python 3",
   "language": "python",
   "name": "python3"
  },
  "language_info": {
   "codemirror_mode": {
    "name": "ipython",
    "version": 3
   },
   "file_extension": ".py",
   "mimetype": "text/x-python",
   "name": "python",
   "nbconvert_exporter": "python",
   "pygments_lexer": "ipython3",
   "version": "3.8.5"
  }
 },
 "nbformat": 4,
 "nbformat_minor": 4
}
